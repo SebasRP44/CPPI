{
 "cells": [
  {
   "cell_type": "code",
   "execution_count": 1,
   "id": "645a6264-c9a1-4b92-8ccb-d601c37e2e6a",
   "metadata": {
    "tags": []
   },
   "outputs": [],
   "source": [
    "%load_ext autoreload\n",
    "%autoreload 2\n",
    "%matplotlib inline\n",
    "import pr as erk\n",
    "\n",
    "# Load the industry returns and the total market index we previously created\n",
    "ind_return = erk.get_ind_returns()"
   ]
  },
  {
   "cell_type": "code",
   "execution_count": 2,
   "id": "12eb1c13-8ae5-4108-b9d6-af092b34c7eb",
   "metadata": {
    "tags": []
   },
   "outputs": [],
   "source": [
    "import pandas as pd\n",
    "import numpy as np\n",
    "\n",
    "risky_r = ind_return[[\"TUR\"]]\n",
    "# Assume the safe asset is paying 3% per year\n",
    "safe_r = ind_return[[\"TECH\"]]\n",
    "start = 1000 # start at $1000\n",
    "floor = 0.80 # set the floor to 80 percent of the starting value"
   ]
  },
  {
   "cell_type": "code",
   "execution_count": 5,
   "id": "42bb5b6e-2518-480f-b2e8-8f3c7ba5491f",
   "metadata": {
    "tags": []
   },
   "outputs": [
    {
     "name": "stdout",
     "output_type": "stream",
     "text": [
      "           TECH\n",
      "2015-02  0.0959\n",
      "2015-03 -0.0436\n",
      "2015-04  0.0174\n",
      "2015-05  0.0339\n",
      "2015-06 -0.0478\n",
      "...         ...\n",
      "2023-08 -0.0344\n",
      "2023-09 -0.0731\n",
      "2023-10  0.0133\n",
      "2023-11  0.1301\n",
      "2023-12  0.0004\n",
      "\n",
      "[107 rows x 1 columns]\n"
     ]
    }
   ],
   "source": [
    "print(safe_r)"
   ]
  },
  {
   "cell_type": "code",
   "execution_count": 6,
   "id": "37ad56e2-1b4f-437f-9b4a-4c6e5755a267",
   "metadata": {
    "tags": []
   },
   "outputs": [
    {
     "name": "stdout",
     "output_type": "stream",
     "text": [
      "            TUR\n",
      "2015-02  0.0654\n",
      "2015-03 -0.0025\n",
      "2015-04 -0.0568\n",
      "2015-05  0.0109\n",
      "2015-06 -0.0353\n",
      "...         ...\n",
      "2023-08  0.0296\n",
      "2023-09 -0.0611\n",
      "2023-10 -0.0569\n",
      "2023-11  0.1102\n",
      "2023-12  0.0855\n",
      "\n",
      "[107 rows x 1 columns]\n"
     ]
    }
   ],
   "source": [
    "print(risky_r)"
   ]
  },
  {
   "cell_type": "code",
   "execution_count": 3,
   "id": "58798b03-f689-48a8-98ec-dbc72c190c23",
   "metadata": {
    "tags": []
   },
   "outputs": [],
   "source": [
    "# set up the CPPI parameters\n",
    "dates = risky_r.index\n",
    "n_steps = len(dates)\n",
    "account_value = start\n",
    "floor_value = start*floor\n",
    "m = 4\n",
    "## set up some DataFrames for saving intermediate values\n",
    "account_history = pd.DataFrame().reindex_like(risky_r)\n",
    "risky_w_history = pd.DataFrame().reindex_like(risky_r)\n",
    "cushion_history = pd.DataFrame().reindex_like(risky_r)"
   ]
  },
  {
   "cell_type": "code",
   "execution_count": 4,
   "id": "73314232-1e62-40db-92ae-fc267ab80b49",
   "metadata": {
    "tags": []
   },
   "outputs": [
    {
     "ename": "ValueError",
     "evalue": "could not broadcast input array from shape (2,) into shape (1,)",
     "output_type": "error",
     "traceback": [
      "\u001b[1;31m---------------------------------------------------------------------------\u001b[0m",
      "\u001b[1;31mValueError\u001b[0m                                Traceback (most recent call last)",
      "Cell \u001b[1;32mIn[4], line 14\u001b[0m\n\u001b[0;32m     12\u001b[0m cushion_history\u001b[38;5;241m.\u001b[39miloc[step] \u001b[38;5;241m=\u001b[39m cushion\n\u001b[0;32m     13\u001b[0m risky_w_history\u001b[38;5;241m.\u001b[39miloc[step] \u001b[38;5;241m=\u001b[39m risky_w\n\u001b[1;32m---> 14\u001b[0m account_history\u001b[38;5;241m.\u001b[39miloc[step] \u001b[38;5;241m=\u001b[39m account_value\n\u001b[0;32m     15\u001b[0m risky_wealth \u001b[38;5;241m=\u001b[39m start\u001b[38;5;241m*\u001b[39m(\u001b[38;5;241m1\u001b[39m\u001b[38;5;241m+\u001b[39mrisky_r)\u001b[38;5;241m.\u001b[39mcumprod()\n",
      "File \u001b[1;32m~\\anaconda3\\Lib\\site-packages\\pandas\\core\\indexing.py:818\u001b[0m, in \u001b[0;36m_LocationIndexer.__setitem__\u001b[1;34m(self, key, value)\u001b[0m\n\u001b[0;32m    815\u001b[0m \u001b[38;5;28mself\u001b[39m\u001b[38;5;241m.\u001b[39m_has_valid_setitem_indexer(key)\n\u001b[0;32m    817\u001b[0m iloc \u001b[38;5;241m=\u001b[39m \u001b[38;5;28mself\u001b[39m \u001b[38;5;28;01mif\u001b[39;00m \u001b[38;5;28mself\u001b[39m\u001b[38;5;241m.\u001b[39mname \u001b[38;5;241m==\u001b[39m \u001b[38;5;124m\"\u001b[39m\u001b[38;5;124miloc\u001b[39m\u001b[38;5;124m\"\u001b[39m \u001b[38;5;28;01melse\u001b[39;00m \u001b[38;5;28mself\u001b[39m\u001b[38;5;241m.\u001b[39mobj\u001b[38;5;241m.\u001b[39miloc\n\u001b[1;32m--> 818\u001b[0m iloc\u001b[38;5;241m.\u001b[39m_setitem_with_indexer(indexer, value, \u001b[38;5;28mself\u001b[39m\u001b[38;5;241m.\u001b[39mname)\n",
      "File \u001b[1;32m~\\anaconda3\\Lib\\site-packages\\pandas\\core\\indexing.py:1797\u001b[0m, in \u001b[0;36m_iLocIndexer._setitem_with_indexer\u001b[1;34m(self, indexer, value, name)\u001b[0m\n\u001b[0;32m   1795\u001b[0m     \u001b[38;5;28mself\u001b[39m\u001b[38;5;241m.\u001b[39m_setitem_with_indexer_split_path(indexer, value, name)\n\u001b[0;32m   1796\u001b[0m \u001b[38;5;28;01melse\u001b[39;00m:\n\u001b[1;32m-> 1797\u001b[0m     \u001b[38;5;28mself\u001b[39m\u001b[38;5;241m.\u001b[39m_setitem_single_block(indexer, value, name)\n",
      "File \u001b[1;32m~\\anaconda3\\Lib\\site-packages\\pandas\\core\\indexing.py:2078\u001b[0m, in \u001b[0;36m_iLocIndexer._setitem_single_block\u001b[1;34m(self, indexer, value, name)\u001b[0m\n\u001b[0;32m   2075\u001b[0m \u001b[38;5;28mself\u001b[39m\u001b[38;5;241m.\u001b[39mobj\u001b[38;5;241m.\u001b[39m_check_is_chained_assignment_possible()\n\u001b[0;32m   2077\u001b[0m \u001b[38;5;66;03m# actually do the set\u001b[39;00m\n\u001b[1;32m-> 2078\u001b[0m \u001b[38;5;28mself\u001b[39m\u001b[38;5;241m.\u001b[39mobj\u001b[38;5;241m.\u001b[39m_mgr \u001b[38;5;241m=\u001b[39m \u001b[38;5;28mself\u001b[39m\u001b[38;5;241m.\u001b[39mobj\u001b[38;5;241m.\u001b[39m_mgr\u001b[38;5;241m.\u001b[39msetitem(indexer\u001b[38;5;241m=\u001b[39mindexer, value\u001b[38;5;241m=\u001b[39mvalue)\n\u001b[0;32m   2079\u001b[0m \u001b[38;5;28mself\u001b[39m\u001b[38;5;241m.\u001b[39mobj\u001b[38;5;241m.\u001b[39m_maybe_update_cacher(clear\u001b[38;5;241m=\u001b[39m\u001b[38;5;28;01mTrue\u001b[39;00m, inplace\u001b[38;5;241m=\u001b[39m\u001b[38;5;28;01mTrue\u001b[39;00m)\n",
      "File \u001b[1;32m~\\anaconda3\\Lib\\site-packages\\pandas\\core\\internals\\managers.py:393\u001b[0m, in \u001b[0;36mBaseBlockManager.setitem\u001b[1;34m(self, indexer, value)\u001b[0m\n\u001b[0;32m    388\u001b[0m \u001b[38;5;28;01mif\u001b[39;00m _using_copy_on_write() \u001b[38;5;129;01mand\u001b[39;00m \u001b[38;5;129;01mnot\u001b[39;00m \u001b[38;5;28mself\u001b[39m\u001b[38;5;241m.\u001b[39m_has_no_reference(\u001b[38;5;241m0\u001b[39m):\n\u001b[0;32m    389\u001b[0m     \u001b[38;5;66;03m# if being referenced -> perform Copy-on-Write and clear the reference\u001b[39;00m\n\u001b[0;32m    390\u001b[0m     \u001b[38;5;66;03m# this method is only called if there is a single block -> hardcoded 0\u001b[39;00m\n\u001b[0;32m    391\u001b[0m     \u001b[38;5;28mself\u001b[39m \u001b[38;5;241m=\u001b[39m \u001b[38;5;28mself\u001b[39m\u001b[38;5;241m.\u001b[39mcopy()\n\u001b[1;32m--> 393\u001b[0m \u001b[38;5;28;01mreturn\u001b[39;00m \u001b[38;5;28mself\u001b[39m\u001b[38;5;241m.\u001b[39mapply(\u001b[38;5;124m\"\u001b[39m\u001b[38;5;124msetitem\u001b[39m\u001b[38;5;124m\"\u001b[39m, indexer\u001b[38;5;241m=\u001b[39mindexer, value\u001b[38;5;241m=\u001b[39mvalue)\n",
      "File \u001b[1;32m~\\anaconda3\\Lib\\site-packages\\pandas\\core\\internals\\managers.py:352\u001b[0m, in \u001b[0;36mBaseBlockManager.apply\u001b[1;34m(self, f, align_keys, ignore_failures, **kwargs)\u001b[0m\n\u001b[0;32m    350\u001b[0m         applied \u001b[38;5;241m=\u001b[39m b\u001b[38;5;241m.\u001b[39mapply(f, \u001b[38;5;241m*\u001b[39m\u001b[38;5;241m*\u001b[39mkwargs)\n\u001b[0;32m    351\u001b[0m     \u001b[38;5;28;01melse\u001b[39;00m:\n\u001b[1;32m--> 352\u001b[0m         applied \u001b[38;5;241m=\u001b[39m \u001b[38;5;28mgetattr\u001b[39m(b, f)(\u001b[38;5;241m*\u001b[39m\u001b[38;5;241m*\u001b[39mkwargs)\n\u001b[0;32m    353\u001b[0m \u001b[38;5;28;01mexcept\u001b[39;00m (\u001b[38;5;167;01mTypeError\u001b[39;00m, \u001b[38;5;167;01mNotImplementedError\u001b[39;00m):\n\u001b[0;32m    354\u001b[0m     \u001b[38;5;28;01mif\u001b[39;00m \u001b[38;5;129;01mnot\u001b[39;00m ignore_failures:\n",
      "File \u001b[1;32m~\\anaconda3\\Lib\\site-packages\\pandas\\core\\internals\\blocks.py:986\u001b[0m, in \u001b[0;36mBlock.setitem\u001b[1;34m(self, indexer, value)\u001b[0m\n\u001b[0;32m    982\u001b[0m         \u001b[38;5;28;01mif\u001b[39;00m lib\u001b[38;5;241m.\u001b[39mis_list_like(vi):\n\u001b[0;32m    983\u001b[0m             \u001b[38;5;66;03m# checking lib.is_scalar here fails on\u001b[39;00m\n\u001b[0;32m    984\u001b[0m             \u001b[38;5;66;03m#  test_iloc_setitem_custom_object\u001b[39;00m\n\u001b[0;32m    985\u001b[0m             casted \u001b[38;5;241m=\u001b[39m setitem_datetimelike_compat(values, \u001b[38;5;28mlen\u001b[39m(vi), casted)\n\u001b[1;32m--> 986\u001b[0m     values[indexer] \u001b[38;5;241m=\u001b[39m casted\n\u001b[0;32m    987\u001b[0m \u001b[38;5;28;01mreturn\u001b[39;00m \u001b[38;5;28mself\u001b[39m\n",
      "\u001b[1;31mValueError\u001b[0m: could not broadcast input array from shape (2,) into shape (1,)"
     ]
    }
   ],
   "source": [
    "for step in range(n_steps): # the budy of this loop is going to be executed for first with step, first with step equal to zero then with step equal to one \n",
    "    cushion = (account_value - floor_value)/account_value\n",
    "    risky_w = m*cushion # how much momey do I give to the risk yasset\n",
    "    risky_w = np.minimum(risky_w, 1)\n",
    "    risky_w = np.maximum(risky_w, 0)\n",
    "    safe_w = 1-risky_w # # how much momey do I give to the safe asset\n",
    "    risky_alloc = account_value*risky_w # how many dolars hace you allocated to the risky asset\n",
    "    safe_alloc = account_value*safe_w # how many dolars hace you allocated to the safe asset\n",
    "    # recompute the new account value at the end of this step\n",
    "    account_value = risky_alloc*(1+risky_r.iloc[step]) + safe_alloc*(1+safe_r.iloc[step]) # Grow the risky allocation by that return and grow the safe allocation by that return\n",
    "    # save the histories for analysis and plotting\n",
    "    cushion_history.iloc[step] = cushion\n",
    "    risky_w_history.iloc[step] = risky_w\n",
    "    account_history.iloc[step] = account_value\n",
    "    risky_wealth = start*(1+risky_r).cumprod() # To compare, if I just stock my money in he risky asset, start with a 1000$ and then compounding it over time"
   ]
  },
  {
   "cell_type": "code",
   "execution_count": null,
   "id": "c0e90cc2-e93f-46c9-87f5-d06d85592004",
   "metadata": {},
   "outputs": [],
   "source": []
  }
 ],
 "metadata": {
  "kernelspec": {
   "display_name": "Python 3 (ipykernel)",
   "language": "python",
   "name": "python3"
  },
  "language_info": {
   "codemirror_mode": {
    "name": "ipython",
    "version": 3
   },
   "file_extension": ".py",
   "mimetype": "text/x-python",
   "name": "python",
   "nbconvert_exporter": "python",
   "pygments_lexer": "ipython3",
   "version": "3.11.4"
  }
 },
 "nbformat": 4,
 "nbformat_minor": 5
}
